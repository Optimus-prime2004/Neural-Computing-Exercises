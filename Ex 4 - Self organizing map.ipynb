{
 "cells": [
  {
   "cell_type": "markdown",
   "metadata": {},
   "source": [
    "# Self - Organizing Map(SOM)"
   ]
  },
  {
   "cell_type": "code",
   "execution_count": 15,
   "metadata": {},
   "outputs": [],
   "source": [
    "import math\n",
    "class SOM:\n",
    "    def winner(self,weights,sample):\n",
    "        d0 = 0\n",
    "        d1 = 0\n",
    "        for i in range(len(sample)):\n",
    "            d0 = d0+math.pow((sample[i]-weights[0][i]),2)\n",
    "            d1 = d1+math.pow((sample[i]-weights[1][i]),2)\n",
    "            if d0>d1:\n",
    "                return 1\n",
    "            else:\n",
    "                return 0\n",
    "    def update(self,weights,sample,J,alpha):\n",
    "        for i in range(len(sample)):\n",
    "            weights[J][i] = weights[J][i]+alpha*(sample[i]-weights[J][i])\n",
    "            return weights\n",
    "def main():\n",
    "    T = [[1,1,0,0],[0,0,0,1],[1,0,0,0],[0,0,1,1]]\n",
    "    m,n = len(T),len(T[0])\n",
    "    weights = [[0.2,0.6,0.5,0.9],[0.8,0.4,0.7,0.3]]\n",
    "    ob = SOM()\n",
    "    epochs = 3\n",
    "    alpha = 0.5\n",
    "    for i in range(epochs):\n",
    "        for j in range(m):\n",
    "            sample = T[j]\n",
    "            J = ob.winner(weights,sample)\n",
    "            weights = ob.update(weights,sample,J,alpha)\n",
    "    s = [1,1,0,1]\n",
    "    J = ob.winner(weights,s)\n",
    "    print(\"Test sample s belongs to cluster:\",J)\n",
    "    print(\"Trained weights\",weights)\n"
   ]
  },
  {
   "cell_type": "code",
   "execution_count": 16,
   "metadata": {},
   "outputs": [
    {
     "name": "stdout",
     "output_type": "stream",
     "text": [
      "Test sample s belongs to cluster: 1\n",
      "Trained weights [[0.003125, 0.6, 0.5, 0.9], [0.996875, 0.4, 0.7, 0.3]]\n"
     ]
    }
   ],
   "source": [
    "if __name__==\"__main__\":\n",
    "    main()"
   ]
  },
  {
   "cell_type": "code",
   "execution_count": null,
   "metadata": {},
   "outputs": [],
   "source": []
  }
 ],
 "metadata": {
  "kernelspec": {
   "display_name": "Python 3",
   "language": "python",
   "name": "python3"
  },
  "language_info": {
   "codemirror_mode": {
    "name": "ipython",
    "version": 3
   },
   "file_extension": ".py",
   "mimetype": "text/x-python",
   "name": "python",
   "nbconvert_exporter": "python",
   "pygments_lexer": "ipython3",
   "version": "3.8.5"
  }
 },
 "nbformat": 4,
 "nbformat_minor": 4
}
