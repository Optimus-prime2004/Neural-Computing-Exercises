{
 "cells": [
  {
   "cell_type": "code",
   "execution_count": 1,
   "metadata": {},
   "outputs": [
    {
     "ename": "ModuleNotFoundError",
     "evalue": "No module named 'skfuzzy'",
     "output_type": "error",
     "traceback": [
      "\u001b[1;31m---------------------------------------------------------------------------\u001b[0m",
      "\u001b[1;31mModuleNotFoundError\u001b[0m                       Traceback (most recent call last)",
      "\u001b[1;32m<ipython-input-1-80d87df34245>\u001b[0m in \u001b[0;36m<module>\u001b[1;34m\u001b[0m\n\u001b[0;32m      1\u001b[0m \u001b[1;32mimport\u001b[0m \u001b[0mnumpy\u001b[0m \u001b[1;32mas\u001b[0m \u001b[0mnp\u001b[0m\u001b[1;33m\u001b[0m\u001b[1;33m\u001b[0m\u001b[0m\n\u001b[0;32m      2\u001b[0m \u001b[1;32mimport\u001b[0m \u001b[0mmatplotlib\u001b[0m\u001b[1;33m.\u001b[0m\u001b[0mpyplot\u001b[0m \u001b[1;32mas\u001b[0m \u001b[0mplt\u001b[0m\u001b[1;33m\u001b[0m\u001b[1;33m\u001b[0m\u001b[0m\n\u001b[1;32m----> 3\u001b[1;33m \u001b[1;32mimport\u001b[0m \u001b[0mskfuzzy\u001b[0m \u001b[1;32mas\u001b[0m \u001b[0mfuzz\u001b[0m\u001b[1;33m\u001b[0m\u001b[1;33m\u001b[0m\u001b[0m\n\u001b[0m\u001b[0;32m      4\u001b[0m \u001b[1;33m\u001b[0m\u001b[0m\n\u001b[0;32m      5\u001b[0m \u001b[0mx\u001b[0m\u001b[1;33m=\u001b[0m\u001b[0mnp\u001b[0m\u001b[1;33m.\u001b[0m\u001b[0marange\u001b[0m\u001b[1;33m(\u001b[0m\u001b[1;36m0\u001b[0m\u001b[1;33m,\u001b[0m\u001b[1;36m5.05\u001b[0m\u001b[1;33m,\u001b[0m\u001b[1;36m0.5\u001b[0m\u001b[1;33m)\u001b[0m\u001b[1;33m\u001b[0m\u001b[1;33m\u001b[0m\u001b[0m\n",
      "\u001b[1;31mModuleNotFoundError\u001b[0m: No module named 'skfuzzy'"
     ]
    }
   ],
   "source": [
    "import numpy as np\n",
    "import matplotlib.pyplot as plt\n",
    "import skfuzzy as fuzz\n",
    "\n",
    "x=np.arange(0,5.05,0.5)\n",
    "mfx=fuzz.trapmf(x,[2,2.5,3,4.5])\n",
    "\n",
    "defuzz_centroid=fuzz.defuzz(x,mfx,'centroid')\n",
    "defuzz_bisector=fuzz.defuzz(x,mfx,'bisector')\n",
    "defuzz_mom=fuzz.defuzz(x,mfx,'mom')\n",
    "defuzz_som=fuzz.defuzz(x,mfx,'som')\n",
    "defuzz_lom=fuzz.defuzz(x,mfx,'lom')\n",
    "labels=['centroid','bisector','mean of maximum','min of maximum','max of maximum']\n",
    "xvals=[defuzz_centroid,\n",
    "      defuzz_bisector,\n",
    "      defuzz_mom,\n",
    "      defuzz_som,\n",
    "      defuzz_lom]\n",
    "colors=['r','b','g','c','m']\n",
    "ymax=[fuzz.interp_membership(x,mfx,i)for i in xvals]\n",
    "\n",
    "plt.figure(figsize=(8,5))\n",
    "plt.plot(x,mfx,'k')\n",
    "for xv,y,label,color in zip(xvals,ymax,labels,colors):\n",
    "    plt.vlines(xv,0,y,label=label,color=color)\n",
    "plt.ylabel('Fuzzy membership')\n",
    "plt.xlabel('Universe variable(arb)')\n",
    "plt.ylim(-0.1,1.1)\n",
    "plt.legend(loc=2)\n",
    "\n",
    "plt.show()\n",
    "\n"
   ]
  }
 ],
 "metadata": {
  "kernelspec": {
   "display_name": "Python 3",
   "language": "python",
   "name": "python3"
  },
  "language_info": {
   "codemirror_mode": {
    "name": "ipython",
    "version": 3
   },
   "file_extension": ".py",
   "mimetype": "text/x-python",
   "name": "python",
   "nbconvert_exporter": "python",
   "pygments_lexer": "ipython3",
   "version": "3.8.5"
  }
 },
 "nbformat": 4,
 "nbformat_minor": 4
}
